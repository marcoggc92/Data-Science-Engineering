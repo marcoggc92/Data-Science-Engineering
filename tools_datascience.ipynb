{
 "cells": [
  {
   "cell_type": "markdown",
   "metadata": {},
   "source": [
    "<center>\n",
    "    <img src=\"https://cf-courses-data.s3.us.cloud-object-storage.appdomain.cloud/IBMDeveloperSkillsNetwork-DS0105EN-SkillsNetwork/labs/Module2/images/SN_web_lightmode.png\" width=\"300\" alt=\"cognitiveclass.ai logo\">\n",
    "</center>\n"
   ]
  },
  {
   "cell_type": "markdown",
   "metadata": {},
   "source": [
    "#### Add your code below following the instructions given in the course\n"
   ]
  },
  {
   "cell_type": "markdown",
   "metadata": {},
   "source": [
    "## Assignment \"Tools for Data Science\""
   ]
  },
  {
   "cell_type": "markdown",
   "metadata": {},
   "source": [
    "**This notebook shows the answers for the final assignment of course \"Tools for Data Science\" offered by IBM**"
   ]
  },
  {
   "cell_type": "markdown",
   "metadata": {},
   "source": [
    "Languages used in Data Science:\n",
    "* Python\n",
    "* R\n",
    "* JavaScript\n",
    "* SQL\n",
    "* Julia"
   ]
  },
  {
   "cell_type": "markdown",
   "metadata": {},
   "source": [
    "Libraries used in Data Science:\n",
    "* numpy (Python)\n",
    "* pandas (Python)\n",
    "* matplotlib (Python)\n",
    "* scikit-learn (Python)\n",
    "* dplyr (R)\n",
    "* ggplot (R)\n",
    "* tydir (R)"
   ]
  },
  {
   "cell_type": "markdown",
   "metadata": {},
   "source": [
    "Data science Tools:\n",
    "|   Structured Data   |   Unstructured Data   |   Cloud   |   Big Data   |   Data Analysis   |   Machine Learning   |    Languages   |\n",
    "|:-------------------:|:---------------------:|:-----------------:|:------------:|:-----------------:|:--------------------:|:--------------:|\n",
    "|   My SQL  |   MongoDB   |   AWS   |   Hadoop   |   Python   |   MLOps   |    Python   |\n",
    "|   SQL Server  |   Cassandra   |   Google Cloud Platform   |   Apache Spark   |   R   |   TensorFlow   |    R   |\n",
    "|   Spreadsheets  |   Apache HBase   |   Microsoft Azure   |   Apache Hive   |   IBM Cosmos   |   Keras   |    SQL   |"
   ]
  },
  {
   "cell_type": "markdown",
   "metadata": {},
   "source": [
    "Arithmetic samples:\n",
    "\n",
    "* Addition: a + b\n",
    "* Sustracion: a - b\n",
    "* Multiplication: a * b\n",
    "* Division: a / b"
   ]
  },
  {
   "cell_type": "code",
   "execution_count": 16,
   "metadata": {
    "scrolled": true
   },
   "outputs": [
    {
     "name": "stdout",
     "output_type": "stream",
     "text": [
      "La suma de 3 y 2 es 5\n",
      "La multiplicación de 3 y 2 es 6\n"
     ]
    }
   ],
   "source": [
    "#Variables\n",
    "a = 3\n",
    "b = 2\n",
    "#Adding\n",
    "c = a + b\n",
    "#Multiplying\n",
    "d = a * b\n",
    "print('La suma de', f'{a}', 'y', f'{b}', 'es', f'{c}')\n",
    "print('La multiplicación de', f'{a}', 'y', f'{b}', 'es', f'{d}')"
   ]
  },
  {
   "cell_type": "code",
   "execution_count": 15,
   "metadata": {},
   "outputs": [
    {
     "name": "stdout",
     "output_type": "stream",
     "text": [
      "Los minutos 30 expresados en horas es 0.5\n"
     ]
    }
   ],
   "source": [
    "# Minutes\n",
    "minutes = 30\n",
    "#To hours\n",
    "hours = minutes/60\n",
    "print('Los minutos', f'{minutes}', 'expresados en horas es', f'{hours}')"
   ]
  },
  {
   "cell_type": "markdown",
   "metadata": {},
   "source": [
    "Objectives:\n",
    "\n",
    "* Get to know languages for Data Science\n",
    "* Get to know tools for Big Data\n",
    "* Get to know tools for working with structures and unstructured data\n",
    "* Get to know tools for developing Machine Learning algorithms"
   ]
  },
  {
   "cell_type": "markdown",
   "metadata": {},
   "source": [
    "**Author: Marco Gutiérrez Corvalán**"
   ]
  }
 ],
 "metadata": {
  "kernelspec": {
   "display_name": "Python 3 (ipykernel)",
   "language": "python",
   "name": "python3"
  },
  "language_info": {
   "codemirror_mode": {
    "name": "ipython",
    "version": 3
   },
   "file_extension": ".py",
   "mimetype": "text/x-python",
   "name": "python",
   "nbconvert_exporter": "python",
   "pygments_lexer": "ipython3",
   "version": "3.11.9"
  }
 },
 "nbformat": 4,
 "nbformat_minor": 4
}
